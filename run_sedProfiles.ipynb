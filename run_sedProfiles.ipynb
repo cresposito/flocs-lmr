{
 "cells": [
  {
   "cell_type": "code",
   "execution_count": 3,
   "metadata": {},
   "outputs": [
    {
     "name": "stderr",
     "output_type": "stream",
     "text": [
      "c:\\Users\\cesposito\\.conda\\envs\\flocs-scistack\\lib\\site-packages\\pandas\\core\\arrays\\masked.py:60: UserWarning: Pandas requires version '1.3.6' or newer of 'bottleneck' (version '1.3.5' currently installed).\n",
      "  from pandas.core import (\n"
     ]
    }
   ],
   "source": [
    "import os\n",
    "import sedProfiles as sp\n",
    "\n",
    "#uncomment and move to lower cell if needed\n",
    "import importlib\n",
    "importlib.reload(sp)\n",
    "importlib.reload(sp)\n",
    "\n",
    "stationary_ADCP_Folder=r\"C:\\Users\\cesposito\\The Water Institute of the Gulf\\P-00703_NSF_Caltech - General\\Data\\MR173 Head of Passes\\StationaryADCP\"\n",
    "\n",
    "inventoryFile=os.path.join(stationary_ADCP_Folder,'MR173_StationaryADCP&Isokinetic.xlsx')\n",
    "\n",
    "figure_save_folder=r\"C:\\Users\\cesposito\\The Water Institute of the Gulf\\P-00703_NSF_Caltech - General\\Data\\_ProcessedData\\MR173 Head of Passes\\withFit\"\n"
   ]
  },
  {
   "cell_type": "code",
   "execution_count": 4,
   "metadata": {},
   "outputs": [],
   "source": [
    "#read in data index spreadsheet, and add a column indicating unique profiles\n",
    "df=sp.readInventory(inventoryFile,stationary_ADCP_Folder)\n",
    "\n",
    "# df.iloc[1]['filepath']"
   ]
  },
  {
   "cell_type": "code",
   "execution_count": 20,
   "metadata": {},
   "outputs": [
    {
     "data": {
      "text/plain": [
       "['SPM-3',\n",
       " 'SWPD-2',\n",
       " 'SWPD-1',\n",
       " 'SWPD-3',\n",
       " 'SWPM-2',\n",
       " 'SWPM-1',\n",
       " 'SWPM-3',\n",
       " 'SWPU-2',\n",
       " 'SWPU-1',\n",
       " 'SWPU-3',\n",
       " 'HOP-2',\n",
       " 'HOP-3',\n",
       " 'HOP-1']"
      ]
     },
     "execution_count": 20,
     "metadata": {},
     "output_type": "execute_result"
    }
   ],
   "source": [
    "import pandas as pd \n",
    "stations=df['Station'].unique().tolist()\n",
    "stations = [sta for sta in stations if not pd.isna(sta)]    #filter out the nans.  not sure why they're there\n",
    "\n",
    "del(stations[0:17])\n",
    "stations"
   ]
  },
  {
   "cell_type": "code",
   "execution_count": null,
   "metadata": {},
   "outputs": [],
   "source": [
    "import importlib\n",
    "importlib.reload(sp)\n",
    "importlib.reload(sp)\n",
    "\n",
    "#read adcp data, given a range of ensembles, and store the result in the dataframe\n",
    "# df=sp.read_ADCP_files_MR173(df,stationary_ADCP_Folder)\n",
    "sp.MR173_Plots(df,figure_save_folder)\n",
    "\n",
    "\n",
    "#fit velocity profile to adcp data (and add u* and z_0 to index dataframe)\n",
    "\n",
    "#plot velocity profiles associated with a given sediment profile\n",
    "\n",
    "#read in a sediment profile\n",
    "\n",
    "#\n"
   ]
  },
  {
   "cell_type": "code",
   "execution_count": null,
   "metadata": {},
   "outputs": [],
   "source": [
    "import pandas as pd\n",
    "\n",
    "# Example data\n",
    "data = {\n",
    "    'u*': ['Alice', 'Bob', 'Charlie', 'David'],\n",
    "    'Age': [25, 30, 35, 40],\n",
    "    'City': ['New York', 'Los Angeles', 'Chicago', 'Houston']\n",
    "}\n",
    "\n",
    "# Create DataFrame\n",
    "df = pd.DataFrame(data)"
   ]
  },
  {
   "cell_type": "code",
   "execution_count": null,
   "metadata": {},
   "outputs": [],
   "source": []
  },
  {
   "cell_type": "code",
   "execution_count": null,
   "metadata": {},
   "outputs": [],
   "source": [
    "ds=df1.iloc[1]['ADCP ds']\n",
    "type(ds[0][0])\n",
    "ds[0][0]"
   ]
  },
  {
   "cell_type": "code",
   "execution_count": null,
   "metadata": {},
   "outputs": [],
   "source": [
    "import numpy as np\n",
    "zz=np.arange(0,8,0.1)"
   ]
  },
  {
   "cell_type": "code",
   "execution_count": null,
   "metadata": {},
   "outputs": [],
   "source": [
    "# Code source: Jaques Grobler\n",
    "# License: BSD 3 clause\n",
    "\n",
    "import matplotlib.pyplot as plt\n",
    "import numpy as np\n",
    "\n",
    "from sklearn import datasets, linear_model\n",
    "from sklearn.metrics import mean_squared_error, r2_score\n",
    "\n",
    "# Load the diabetes dataset\n",
    "diabetes_X, diabetes_y = datasets.load_diabetes(return_X_y=True)\n",
    "\n",
    "# Use only one feature\n",
    "diabetes_X = diabetes_X[:, np.newaxis, 2]\n",
    "\n",
    "# Split the data into training/testing sets\n",
    "diabetes_X_train = diabetes_X[:-20]\n",
    "diabetes_X_test = diabetes_X[-20:]\n",
    "\n",
    "# Split the targets into training/testing sets\n",
    "diabetes_y_train = diabetes_y[:-20]\n",
    "diabetes_y_test = diabetes_y[-20:]\n",
    "\n",
    "# Create linear regression object\n",
    "regr = linear_model.LinearRegression()\n",
    "\n",
    "# Train the model using the training sets\n",
    "regr.fit(diabetes_X_train, diabetes_y_train)\n",
    "\n",
    "# Make predictions using the testing set\n",
    "diabetes_y_pred = regr.predict(diabetes_X_test)\n",
    "\n",
    "# The coefficients\n",
    "print(\"Coefficients: \\n\", regr.coef_)\n",
    "# The mean squared error\n",
    "print(\"Mean squared error: %.2f\" % mean_squared_error(diabetes_y_test, diabetes_y_pred))\n",
    "# The coefficient of determination: 1 is perfect prediction\n",
    "print(\"Coefficient of determination: %.2f\" % r2_score(diabetes_y_test, diabetes_y_pred))\n",
    "\n",
    "# Plot outputs\n",
    "plt.scatter(diabetes_X_test, diabetes_y_test, color=\"black\")\n",
    "plt.plot(diabetes_X_test, diabetes_y_pred, color=\"blue\", linewidth=3)\n",
    "\n",
    "plt.xticks(())\n",
    "plt.yticks(())\n",
    "\n",
    "plt.show()"
   ]
  },
  {
   "cell_type": "code",
   "execution_count": null,
   "metadata": {},
   "outputs": [],
   "source": [
    "print(diabetes_X_train.shape)\n",
    "print(diabetes_y_train.shape)"
   ]
  },
  {
   "cell_type": "code",
   "execution_count": null,
   "metadata": {},
   "outputs": [],
   "source": [
    "diabetes_y_train"
   ]
  }
 ],
 "metadata": {
  "kernelspec": {
   "display_name": "flocs-scistack",
   "language": "python",
   "name": "python3"
  },
  "language_info": {
   "codemirror_mode": {
    "name": "ipython",
    "version": 3
   },
   "file_extension": ".py",
   "mimetype": "text/x-python",
   "name": "python",
   "nbconvert_exporter": "python",
   "pygments_lexer": "ipython3",
   "version": "3.9.19"
  }
 },
 "nbformat": 4,
 "nbformat_minor": 2
}
