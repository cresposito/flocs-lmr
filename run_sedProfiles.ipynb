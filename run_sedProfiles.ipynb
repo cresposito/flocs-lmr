{
 "cells": [
  {
   "cell_type": "code",
   "execution_count": 30,
   "metadata": {},
   "outputs": [],
   "source": [
    "import os\n",
    "import sedProfiles as sp\n",
    "\n",
    "#uncomment and move to lower cell if needed\n",
    "import importlib\n",
    "importlib.reload(sp)\n",
    "importlib.reload(sp)\n",
    "\n",
    "stationary_ADCP_Folder=r\"C:\\Users\\cesposito\\The Water Institute of the Gulf\\P-00703_NSF_Caltech - General\\Data\\MR173 Head of Passes\\StationaryADCP\"\n",
    "\n",
    "inventoryFile=os.path.join(stationary_ADCP_Folder,'MR173_StationaryADCP&Isokinetic.xlsx')\n",
    "\n",
    "\n"
   ]
  },
  {
   "cell_type": "code",
   "execution_count": 31,
   "metadata": {},
   "outputs": [],
   "source": [
    "#read in data index spreadsheet, and add a column indicating unique profiles\n",
    "df=sp.readInventory(inventoryFile)\n",
    "\n"
   ]
  },
  {
   "cell_type": "code",
   "execution_count": 26,
   "metadata": {},
   "outputs": [
    {
     "ename": "TypeError",
     "evalue": "'NoneType' object does not support item assignment",
     "output_type": "error",
     "traceback": [
      "\u001b[1;31m---------------------------------------------------------------------------\u001b[0m",
      "\u001b[1;31mTypeError\u001b[0m                                 Traceback (most recent call last)",
      "Cell \u001b[1;32mIn[26], line 6\u001b[0m\n\u001b[0;32m      3\u001b[0m importlib\u001b[38;5;241m.\u001b[39mreload(sp)\n\u001b[0;32m      5\u001b[0m \u001b[38;5;66;03m#read adcp data, given a range of ensembles, and store the result in the dataframe\u001b[39;00m\n\u001b[1;32m----> 6\u001b[0m df\u001b[38;5;241m=\u001b[39m\u001b[43msp\u001b[49m\u001b[38;5;241;43m.\u001b[39;49m\u001b[43mread_ADCP_files_MR173\u001b[49m\u001b[43m(\u001b[49m\u001b[43mdf\u001b[49m\u001b[43m,\u001b[49m\u001b[43mstationary_ADCP_Folder\u001b[49m\u001b[43m)\u001b[49m\n\u001b[0;32m      9\u001b[0m \u001b[38;5;66;03m#fit velocity profile to adcp data (and add u* and z_0 to index dataframe)\u001b[39;00m\n\u001b[0;32m     10\u001b[0m \n\u001b[0;32m     11\u001b[0m \u001b[38;5;66;03m#plot velocity profiles associated with a given sediment profile\u001b[39;00m\n\u001b[1;32m   (...)\u001b[0m\n\u001b[0;32m     14\u001b[0m \n\u001b[0;32m     15\u001b[0m \u001b[38;5;66;03m#\u001b[39;00m\n",
      "File \u001b[1;32mc:\\Users\\cesposito\\Documents\\GitHub\\flocs-lmr\\sedProfiles.py:38\u001b[0m, in \u001b[0;36mread_ADCP_files_MR173\u001b[1;34m(df, dataFolder)\u001b[0m\n\u001b[0;32m     34\u001b[0m \u001b[38;5;28;01mdef\u001b[39;00m \u001b[38;5;21mread_ADCP_files_MR173\u001b[39m(df,dataFolder):\n\u001b[0;32m     35\u001b[0m     \u001b[38;5;66;03m#reads in all ADCP data for the MR_173 project\u001b[39;00m\n\u001b[0;32m     36\u001b[0m     \n\u001b[0;32m     37\u001b[0m     \u001b[38;5;66;03m#make new column to contain adcp data\u001b[39;00m\n\u001b[1;32m---> 38\u001b[0m     \u001b[43mdf\u001b[49m\u001b[43m[\u001b[49m\u001b[38;5;124;43m'\u001b[39;49m\u001b[38;5;124;43mADCP data\u001b[39;49m\u001b[38;5;124;43m'\u001b[39;49m\u001b[43m]\u001b[49m\u001b[38;5;241m=\u001b[39m\u001b[38;5;28;01mNone\u001b[39;00m\n\u001b[0;32m     41\u001b[0m     \u001b[38;5;28;01mfor\u001b[39;00m ind,row \u001b[38;5;129;01min\u001b[39;00m df\u001b[38;5;241m.\u001b[39miterrows():\n\u001b[0;32m     42\u001b[0m         \u001b[38;5;66;03m#locate ADCP file in dataFolder or its subfolders, and read selected ensembles\u001b[39;00m\n\u001b[0;32m     43\u001b[0m         adcp_path\u001b[38;5;241m=\u001b[39mfind_file(dataFolder,row[\u001b[38;5;124m'\u001b[39m\u001b[38;5;124mStationary ADCP File Name\u001b[39m\u001b[38;5;124m'\u001b[39m])    \n",
      "\u001b[1;31mTypeError\u001b[0m: 'NoneType' object does not support item assignment"
     ]
    }
   ],
   "source": [
    "import importlib\n",
    "importlib.reload(sp)\n",
    "importlib.reload(sp)\n",
    "\n",
    "#read adcp data, given a range of ensembles, and store the result in the dataframe\n",
    "df=sp.read_ADCP_files_MR173(df,stationary_ADCP_Folder)\n",
    "\n",
    "\n",
    "#fit velocity profile to adcp data (and add u* and z_0 to index dataframe)\n",
    "\n",
    "#plot velocity profiles associated with a given sediment profile\n",
    "\n",
    "#read in a sediment profile\n",
    "\n",
    "#\n"
   ]
  }
 ],
 "metadata": {
  "kernelspec": {
   "display_name": "flocs-scistack",
   "language": "python",
   "name": "python3"
  },
  "language_info": {
   "codemirror_mode": {
    "name": "ipython",
    "version": 3
   },
   "file_extension": ".py",
   "mimetype": "text/x-python",
   "name": "python",
   "nbconvert_exporter": "python",
   "pygments_lexer": "ipython3",
   "version": "3.9.19"
  }
 },
 "nbformat": 4,
 "nbformat_minor": 2
}
